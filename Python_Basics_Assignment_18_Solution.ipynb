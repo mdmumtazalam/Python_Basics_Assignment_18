{
  "cells": [
    {
      "cell_type": "markdown",
      "id": "3a196ef3",
      "metadata": {
        "id": "3a196ef3"
      },
      "source": [
        "# Python_Basics_Assignment_18 Solution :-\n",
        "SUBMITTED BY: MD MUMTAZ ALAM"
      ]
    },
    {
      "cell_type": "code",
      "execution_count": null,
      "id": "13397e92",
      "metadata": {
        "id": "13397e92",
        "outputId": "bee788ee-e1d3-435f-a898-552534d1efdd"
      },
      "outputs": [
        {
          "name": "stdout",
          "output_type": "stream",
          "text": [
            "Collecting zoo\n",
            "  Downloading zoo-0.1a0.tar.gz (803 bytes)\n",
            "Building wheels for collected packages: zoo\n",
            "  Building wheel for zoo (setup.py): started\n",
            "  Building wheel for zoo (setup.py): finished with status 'done'\n",
            "  Created wheel for zoo: filename=zoo-0.1a0-py3-none-any.whl size=1234 sha256=8b00d7251dc9a0be24ebddfebb191dbb3c34c30dd1b6204f2690db64a06139eb\n",
            "  Stored in directory: c:\\users\\lenovo\\appdata\\local\\pip\\cache\\wheels\\ea\\e5\\f1\\814f8929b4b1b2af656771311b5401caf104857a9bff1715a1\n",
            "Successfully built zoo\n",
            "Installing collected packages: zoo\n",
            "Successfully installed zoo-0.1a0\n"
          ]
        }
      ],
      "source": [
        "! pip install zoo\n"
      ]
    },
    {
      "cell_type": "markdown",
      "id": "9080bfb0",
      "metadata": {
        "id": "9080bfb0"
      },
      "source": [
        "## 1. Create a zoo.py file first. Define the hours() function, which prints the string 'Open 9-5 daily'. Then, use the interactive interpreter to import the zoo module and call its hours() function."
      ]
    },
    {
      "cell_type": "code",
      "execution_count": null,
      "id": "9f0019a8",
      "metadata": {
        "id": "9f0019a8",
        "outputId": "6f1ba92a-e663-4a16-a0a7-53ee15bb38d6"
      },
      "outputs": [
        {
          "name": "stdout",
          "output_type": "stream",
          "text": [
            "Open 9-5 daily\n"
          ]
        }
      ],
      "source": [
        "import zoo\n",
        "zoo.hours()"
      ]
    },
    {
      "cell_type": "markdown",
      "id": "27175b9a",
      "metadata": {
        "id": "27175b9a"
      },
      "source": [
        "## 2. In the interactive interpreter, import the zoo module as menagerie and call its hours() function."
      ]
    },
    {
      "cell_type": "code",
      "execution_count": null,
      "id": "f39684d5",
      "metadata": {
        "id": "f39684d5",
        "outputId": "885b1ed1-a4c2-47c9-91de-d54399ab2bbd"
      },
      "outputs": [
        {
          "name": "stdout",
          "output_type": "stream",
          "text": [
            "Open 9-5 daily\n"
          ]
        }
      ],
      "source": [
        "import zoo as menagerie\n",
        "menagerie.hours()"
      ]
    },
    {
      "cell_type": "markdown",
      "id": "edbd6f47",
      "metadata": {
        "id": "edbd6f47"
      },
      "source": [
        "## 3. Using the interpreter, explicitly import and call the hours() function from zoo."
      ]
    },
    {
      "cell_type": "code",
      "execution_count": null,
      "id": "49eddb72",
      "metadata": {
        "id": "49eddb72",
        "outputId": "f98e3b16-d826-437c-d201-39b8f8b89df1"
      },
      "outputs": [
        {
          "name": "stdout",
          "output_type": "stream",
          "text": [
            "Open 9-5 daily\n"
          ]
        }
      ],
      "source": [
        "from zoo import hours\n",
        "hours()"
      ]
    },
    {
      "cell_type": "markdown",
      "id": "8ecf11f4",
      "metadata": {
        "id": "8ecf11f4"
      },
      "source": [
        "## 4. Import the hours() function as info and call it."
      ]
    },
    {
      "cell_type": "code",
      "execution_count": null,
      "id": "74e37d80",
      "metadata": {
        "id": "74e37d80",
        "outputId": "a41294ac-2dbc-41d2-beab-2d820ca6748e"
      },
      "outputs": [
        {
          "name": "stdout",
          "output_type": "stream",
          "text": [
            "Open 9-5 daily\n"
          ]
        }
      ],
      "source": [
        "from zoo import hours as info\n",
        "info()"
      ]
    },
    {
      "cell_type": "markdown",
      "id": "a1a61473",
      "metadata": {
        "id": "a1a61473"
      },
      "source": [
        "## 5. Create a plain dictionary with the key-value pairs 'a': 1, 'b': 2, and 'c': 3, and print it out."
      ]
    },
    {
      "cell_type": "code",
      "execution_count": null,
      "id": "21aaa2ad",
      "metadata": {
        "id": "21aaa2ad",
        "outputId": "00e410fc-09e9-4bbc-d273-0f8286354ae6"
      },
      "outputs": [
        {
          "name": "stdout",
          "output_type": "stream",
          "text": [
            "{'a': 1, 'b': 2, 'c': 3}\n"
          ]
        }
      ],
      "source": [
        "plain_dict = {'a':1,'b':2,'c':3}\n",
        "print(plain_dict)"
      ]
    },
    {
      "cell_type": "markdown",
      "id": "954d4202",
      "metadata": {
        "id": "954d4202"
      },
      "source": [
        "## 6.Make an OrderedDict called fancy from the same pairs listed in 5 and print it. Did it print in the same order as plain?"
      ]
    },
    {
      "cell_type": "code",
      "execution_count": null,
      "id": "2c76c608",
      "metadata": {
        "id": "2c76c608",
        "outputId": "ac64db71-08d7-4ddc-954c-97322cd0b100"
      },
      "outputs": [
        {
          "name": "stdout",
          "output_type": "stream",
          "text": [
            "plain_dict -> {'a': 1, 'b': 2, 'c': 3}\n",
            "fancy -> OrderedDict([('a', 1), ('b', 2), ('c', 3)])\n"
          ]
        }
      ],
      "source": [
        "from collections import OrderedDict\n",
        "fancy = OrderedDict(plain_dict)\n",
        "print(f'plain_dict -> {plain_dict}')\n",
        "print(f'fancy -> {fancy}')"
      ]
    },
    {
      "cell_type": "markdown",
      "id": "c32550d8",
      "metadata": {
        "id": "c32550d8"
      },
      "source": [
        "## 7. Make a default dictionary called dict_of_lists and pass it the argument list. Make the list dict_of_lists['a'] and append the value 'something for a' to it in one assignment. Print dict_of_lists['a']."
      ]
    },
    {
      "cell_type": "code",
      "execution_count": null,
      "id": "97e55376",
      "metadata": {
        "id": "97e55376",
        "outputId": "f6ede89f-1b29-4b57-b7d5-a1e1849d175b"
      },
      "outputs": [
        {
          "name": "stdout",
          "output_type": "stream",
          "text": [
            "['something for a']\n"
          ]
        }
      ],
      "source": [
        "from collections import defaultdict\n",
        "dict_of_lists = defaultdict(list)\n",
        "dict_of_lists['a'].append('something for a')\n",
        "print(dict_of_lists['a'])"
      ]
    },
    {
      "cell_type": "markdown",
      "id": "191ef18d",
      "metadata": {
        "id": "191ef18d"
      },
      "source": [
        "# Thank You"
      ]
    }
  ],
  "metadata": {
    "kernelspec": {
      "display_name": "Python 3 (ipykernel)",
      "language": "python",
      "name": "python3"
    },
    "language_info": {
      "codemirror_mode": {
        "name": "ipython",
        "version": 3
      },
      "file_extension": ".py",
      "mimetype": "text/x-python",
      "name": "python",
      "nbconvert_exporter": "python",
      "pygments_lexer": "ipython3",
      "version": "3.9.7"
    },
    "colab": {
      "provenance": []
    }
  },
  "nbformat": 4,
  "nbformat_minor": 5
}